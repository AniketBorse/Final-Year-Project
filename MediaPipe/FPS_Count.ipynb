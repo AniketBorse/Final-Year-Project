{
 "cells": [
  {
   "cell_type": "code",
   "execution_count": 1,
   "metadata": {},
   "outputs": [
    {
     "name": "stdout",
     "output_type": "stream",
     "text": [
      "FPS: 0.26434541908537695\n",
      "FPS: 31.866208094467265\n",
      "FPS: 29.29296216704718\n",
      "FPS: 30.841313905412395\n",
      "FPS: 29.278743827698403\n",
      "FPS: 30.35018126297966\n",
      "FPS: 30.32032879970618\n",
      "FPS: 29.385498111982873\n",
      "FPS: 30.779561224076737\n",
      "FPS: 29.33795730566411\n"
     ]
    }
   ],
   "source": [
    "import cv2\n",
    "import time\n",
    "\n",
    "# Open the camera\n",
    "cap = cv2.VideoCapture(0)\n",
    "\n",
    "# Start time\n",
    "start_time = time.time()\n",
    "frame_count = 0\n",
    "\n",
    "while True:\n",
    "    # Capture frame-by-frame\n",
    "    ret, frame = cap.read()\n",
    "\n",
    "    # Display the resulting frame\n",
    "    cv2.imshow('frame', frame)\n",
    "\n",
    "    # Increment frame counter\n",
    "    frame_count += 1\n",
    "\n",
    "    # Calculate elapsed time\n",
    "    elapsed_time = time.time() - start_time\n",
    "\n",
    "    # Calculate and display fps every second\n",
    "    if elapsed_time > 1:\n",
    "        fps = frame_count / elapsed_time\n",
    "        print(\"FPS:\", fps)\n",
    "        frame_count = 0\n",
    "        start_time = time.time()\n",
    "\n",
    "    # Exit if 'q' is pressed\n",
    "    if cv2.waitKey(1) & 0xFF == ord('q'):\n",
    "        break\n",
    "\n",
    "# When everything done, release the capture\n",
    "cap.release()\n",
    "cv2.destroyAllWindows()"
   ]
  },
  {
   "cell_type": "code",
   "execution_count": null,
   "metadata": {},
   "outputs": [],
   "source": []
  }
 ],
 "metadata": {
  "kernelspec": {
   "display_name": "Python 3",
   "language": "python",
   "name": "python3"
  },
  "language_info": {
   "codemirror_mode": {
    "name": "ipython",
    "version": 3
   },
   "file_extension": ".py",
   "mimetype": "text/x-python",
   "name": "python",
   "nbconvert_exporter": "python",
   "pygments_lexer": "ipython3",
   "version": "3.8.5"
  }
 },
 "nbformat": 4,
 "nbformat_minor": 5
}
