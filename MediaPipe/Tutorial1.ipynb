{
 "cells": [
  {
   "cell_type": "code",
   "execution_count": 4,
   "id": "cefa964b",
   "metadata": {},
   "outputs": [],
   "source": [
    "import cv2\n",
    "import mediapipe as mp\n",
    "\n",
    "cam = cv2.VideoCapture(0)\n",
    "\n",
    "facmesh = mp.solutions.face_mesh\n",
    "face = facmesh.FaceMesh(static_image_mode=True, min_tracking_confidence=0.6, min_detection_confidence=0.6)\n",
    "draw = mp.solutions.drawing_utils\n",
    "\n",
    "while True:\n",
    "    check, frame = cam.read()\n",
    "    \n",
    "    rgb = cv2.cvtColor(frame, cv2.COLOR_BGR2RGB)\n",
    "    \n",
    "    op = face.process(rgb)\n",
    "    if op.multi_face_landmarks:\n",
    "        for i in op.multi_face_landmarks:\n",
    "#             print(i.landmark[0].y * 480)\n",
    "            draw.draw_landmarks(frame, i, facmesh.FACEMESH_CONTOURS, landmark_drawing_spec=draw.DrawingSpec(circle_radius=1, color=(0, 255, 0)))\n",
    "\n",
    "    cv2.imshow('video', frame)\n",
    "\n",
    "    key = cv2.waitKey(1)\n",
    "    if key == 27:\n",
    "        cam.release()\n",
    "        cv2.destroyAllWindows()\n",
    "        break"
   ]
  },
  {
   "cell_type": "code",
   "execution_count": null,
   "id": "89094313",
   "metadata": {},
   "outputs": [],
   "source": []
  }
 ],
 "metadata": {
  "kernelspec": {
   "display_name": "Python 3 (ipykernel)",
   "language": "python",
   "name": "python3"
  },
  "language_info": {
   "codemirror_mode": {
    "name": "ipython",
    "version": 3
   },
   "file_extension": ".py",
   "mimetype": "text/x-python",
   "name": "python",
   "nbconvert_exporter": "python",
   "pygments_lexer": "ipython3",
   "version": "3.8.10"
  }
 },
 "nbformat": 4,
 "nbformat_minor": 5
}
